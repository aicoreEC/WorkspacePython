{
 "cells": [
  {
   "cell_type": "markdown",
   "metadata": {},
   "source": [
    "# BeautifulSoup Test"
   ]
  },
  {
   "cell_type": "code",
   "execution_count": 1,
   "metadata": {},
   "outputs": [],
   "source": [
    "from bs4 import BeautifulSoup"
   ]
  },
  {
   "cell_type": "code",
   "execution_count": 9,
   "metadata": {},
   "outputs": [],
   "source": [
    "# sample HTML 문서 데이터를 만든다.\n",
    "html_doc = '''\n",
    "<table border=1>\n",
    "    <tr>\n",
    "        <th id=\"choco\">초콜릿</th>\n",
    "        <th id=\"cookie\">과자</th>\n",
    "    </tr>\n",
    "    <tr>\n",
    "        <td name=\"candy\">사탕</td>\n",
    "        <td>오렌지</td>\n",
    "    </tr>\n",
    "</table>\n",
    "'''"
   ]
  },
  {
   "cell_type": "code",
   "execution_count": 10,
   "metadata": {},
   "outputs": [],
   "source": [
    "# html parser를 이용해서 html 형태의 데이터를 읽어온다.\n",
    "soup = BeautifulSoup( html_doc, 'html.parser' )"
   ]
  },
  {
   "cell_type": "code",
   "execution_count": 11,
   "metadata": {},
   "outputs": [
    {
     "name": "stdout",
     "output_type": "stream",
     "text": [
      "사탕\n",
      "오렌지\n"
     ]
    }
   ],
   "source": [
    "# 1) td 태그를 모두 찾아서 td_list에 담은 후, 반복을 하면서 각 td tag 내용을 출력한다.\n",
    "td_list = soup.find_all( 'td' )\n",
    "for td_item in td_list:\n",
    "    print( td_item.string )"
   ]
  },
  {
   "cell_type": "code",
   "execution_count": 14,
   "metadata": {},
   "outputs": [
    {
     "name": "stdout",
     "output_type": "stream",
     "text": [
      "초콜릿\n"
     ]
    }
   ],
   "source": [
    "# 2) td가 choco인 항목을 찾아서 해당 tag 내용을 출력한다.\n",
    "id_list = soup.find( id = 'choco' )\n",
    "print( id_list.string )"
   ]
  },
  {
   "cell_type": "code",
   "execution_count": 18,
   "metadata": {},
   "outputs": [
    {
     "name": "stdout",
     "output_type": "stream",
     "text": [
      "오렌지\n"
     ]
    }
   ],
   "source": [
    "# 3) td tag이면서 name 속성이 candy인 항목을 찾아서\n",
    "# 그 다음에 있는 같은 td 속성을 찾아서 태그 내용을 출력한다.\n",
    "td_list = soup.find( 'td', { 'name':'candy' } )\n",
    "print( td_list.find_next_sibling().string )"
   ]
  },
  {
   "cell_type": "code",
   "execution_count": 19,
   "metadata": {},
   "outputs": [
    {
     "name": "stdout",
     "output_type": "stream",
     "text": [
      "초콜릿\n"
     ]
    }
   ],
   "source": [
    "# 4) 앞의 2번과 동일하지만 css selector 방식으로 사용한다.\n",
    "td_list = soup.select( '#choco' )\n",
    "print( td_list[ 0 ].string )"
   ]
  },
  {
   "cell_type": "code",
   "execution_count": 20,
   "metadata": {},
   "outputs": [
    {
     "name": "stdout",
     "output_type": "stream",
     "text": [
      "오렌지\n"
     ]
    }
   ],
   "source": [
    "# 5) 앞의 3번과 동일하지만 css selector 방식으로 사용한다.\n",
    "td_list = soup.select( 'td[ name=\"candy\" ]' )\n",
    "print( td_list[ 0 ].find_next_sibling().string )"
   ]
  },
  {
   "cell_type": "code",
   "execution_count": null,
   "metadata": {},
   "outputs": [],
   "source": []
  }
 ],
 "metadata": {
  "kernelspec": {
   "display_name": "Python 3",
   "language": "python",
   "name": "python3"
  },
  "language_info": {
   "codemirror_mode": {
    "name": "ipython",
    "version": 3
   },
   "file_extension": ".py",
   "mimetype": "text/x-python",
   "name": "python",
   "nbconvert_exporter": "python",
   "pygments_lexer": "ipython3",
   "version": "3.7.6"
  }
 },
 "nbformat": 4,
 "nbformat_minor": 4
}
